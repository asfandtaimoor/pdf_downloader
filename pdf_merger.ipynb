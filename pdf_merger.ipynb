{
 "cells": [
  {
   "cell_type": "code",
   "execution_count": 55,
   "id": "29f77385-265d-4d61-9c69-b210b8607369",
   "metadata": {},
   "outputs": [
    {
     "name": "stdout",
     "output_type": "stream",
     "text": [
      "Requirement already satisfied: PyMuPDF in /Library/Frameworks/Python.framework/Versions/3.13/lib/python3.13/site-packages (1.24.11)\n"
     ]
    }
   ],
   "source": [
    "!pip install PyMuPDF\n"
   ]
  },
  {
   "cell_type": "code",
   "execution_count": 59,
   "id": "6721ad9c-c8ad-4daf-a3d1-856a15a52607",
   "metadata": {},
   "outputs": [
    {
     "name": "stdout",
     "output_type": "stream",
     "text": [
      "Merged PDF saved as merged_document.pdf!\n"
     ]
    }
   ],
   "source": [
    "import os\n",
    "import fitz  # PyMuPDF\n",
    "\n",
    "# Create a PDF writer object\n",
    "pdf_writer = fitz.open()\n",
    "\n",
    "# Path to the directory containing the PDFs\n",
    "pdf_directory = 'pdf_downloaded'\n",
    "\n",
    "# Get a sorted list of PDF files based on their numeric suffix\n",
    "pdf_files = sorted(\n",
    "    [f for f in os.listdir(pdf_directory) if f.endswith('.pdf')],\n",
    "    key=lambda x: int(x.split('_')[1].split('.')[0])  # Extract number from filename\n",
    ")\n",
    "\n",
    "# Loop through each PDF file in the sorted order\n",
    "for filename in pdf_files:\n",
    "    # Create the full file path\n",
    "    pdf_path = os.path.join(pdf_directory, filename)\n",
    "    try:\n",
    "        # Open the PDF file\n",
    "        pdf_reader = fitz.open(pdf_path)\n",
    "        \n",
    "        # Append the pages to the writer object\n",
    "        pdf_writer.insert_pdf(pdf_reader)\n",
    "    \n",
    "    except Exception as e:\n",
    "        print(f\"Error reading {pdf_path}: {e}\")\n",
    "\n",
    "# Save the merged PDF to a new file\n",
    "merged_pdf_path = 'merged_document.pdf'\n",
    "pdf_writer.save(merged_pdf_path)\n",
    "pdf_writer.close()\n",
    "\n",
    "print(f\"Merged PDF saved as {merged_pdf_path}!\")\n"
   ]
  },
  {
   "cell_type": "code",
   "execution_count": 60,
   "id": "77954f26-9bb9-452d-abea-8f8692f35112",
   "metadata": {},
   "outputs": [
    {
     "name": "stdout",
     "output_type": "stream",
     "text": [
      "Duplicate pages removed. New PDF saved as: merged_document_final.pdf\n"
     ]
    }
   ],
   "source": [
    "import PyPDF2\n",
    "\n",
    "def remove_duplicate_pages(input_pdf_path, output_pdf_path):\n",
    "    # Create a PDF reader and writer\n",
    "    pdf_reader = PyPDF2.PdfReader(input_pdf_path)\n",
    "    pdf_writer = PyPDF2.PdfWriter()\n",
    "\n",
    "    # Use a set to track seen pages\n",
    "    seen_pages = set()\n",
    "    \n",
    "    for page in pdf_reader.pages:\n",
    "        # Get the page's content as text\n",
    "        page_content = page.extract_text()\n",
    "\n",
    "        # Use the content as a unique identifier for the page\n",
    "        if page_content not in seen_pages:\n",
    "            seen_pages.add(page_content)\n",
    "            pdf_writer.add_page(page)\n",
    "\n",
    "    # Write the output PDF without duplicates\n",
    "    with open(output_pdf_path, 'wb') as output_pdf:\n",
    "        pdf_writer.write(output_pdf)\n",
    "\n",
    "    print(f\"Duplicate pages removed. New PDF saved as: {output_pdf_path}\")\n",
    "\n",
    "# Usage\n",
    "input_pdf = 'merged_document.pdf'  # Path to your input PDF\n",
    "output_pdf = 'merged_document_final.pdf'  # Path for the new PDF without duplicates\n",
    "remove_duplicate_pages(input_pdf, output_pdf)\n"
   ]
  },
  {
   "cell_type": "code",
   "execution_count": null,
   "id": "aba09840-51e9-4140-b00d-7b24b8e083f2",
   "metadata": {},
   "outputs": [],
   "source": []
  }
 ],
 "metadata": {
  "kernelspec": {
   "display_name": "Python 3 (ipykernel)",
   "language": "python",
   "name": "python3"
  },
  "language_info": {
   "codemirror_mode": {
    "name": "ipython",
    "version": 3
   },
   "file_extension": ".py",
   "mimetype": "text/x-python",
   "name": "python",
   "nbconvert_exporter": "python",
   "pygments_lexer": "ipython3",
   "version": "3.13.0"
  }
 },
 "nbformat": 4,
 "nbformat_minor": 5
}
